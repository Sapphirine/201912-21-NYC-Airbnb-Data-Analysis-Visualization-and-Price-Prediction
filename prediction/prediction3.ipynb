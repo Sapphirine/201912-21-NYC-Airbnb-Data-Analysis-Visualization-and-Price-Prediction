{
 "cells": [
  {
   "cell_type": "code",
   "execution_count": 1,
   "metadata": {},
   "outputs": [],
   "source": [
    "import pandas as pd\n",
    "import numpy as np\n",
    "import matplotlib.image as mpimg\n",
    "import matplotlib.pyplot as plt\n",
    "%matplotlib inline\n",
    "import seaborn as sns"
   ]
  },
  {
   "cell_type": "code",
   "execution_count": 2,
   "metadata": {},
   "outputs": [],
   "source": [
    "from sklearn import preprocessing\n",
    "from sklearn.preprocessing import LabelEncoder\n",
    "from sklearn.preprocessing import StandardScaler\n",
    "\n",
    "from sklearn.model_selection import train_test_split\n",
    "from sklearn.model_selection import KFold\n",
    "from sklearn.model_selection import GridSearchCV\n",
    "from sklearn.ensemble import ExtraTreesClassifier\n",
    "\n",
    "from sklearn.linear_model import LinearRegression\n",
    "from sklearn.preprocessing import PolynomialFeatures\n",
    "from sklearn.linear_model import Ridge\n",
    "from sklearn.linear_model import Lasso\n",
    "from sklearn.linear_model import ElasticNet\n",
    "\n",
    "from sklearn import metrics\n",
    "from sklearn.metrics import mean_squared_error\n",
    "from sklearn.metrics import mean_absolute_error\n",
    "from math import sqrt\n",
    "from sklearn.metrics import r2_score"
   ]
  },
  {
   "cell_type": "code",
   "execution_count": 52,
   "metadata": {},
   "outputs": [],
   "source": [
    "dataset = pd.read_csv('new-york-city-airbnb-open-data/AB_NYC_2019.csv')"
   ]
  },
  {
   "cell_type": "code",
   "execution_count": 53,
   "metadata": {},
   "outputs": [],
   "source": [
    "dataset['neighbourhood_group']= dataset['neighbourhood_group'].astype(\"category\").cat.codes\n",
    "dataset['neighbourhood'] = dataset['neighbourhood'].astype(\"category\").cat.codes\n",
    "dataset['room_type'] = dataset['room_type'].astype(\"category\").cat.codes"
   ]
  },
  {
   "cell_type": "code",
   "execution_count": 54,
   "metadata": {},
   "outputs": [],
   "source": [
    "dataset['price_log'] = np.log(dataset.price+1)"
   ]
  },
  {
   "cell_type": "code",
   "execution_count": 55,
   "metadata": {},
   "outputs": [
    {
     "data": {
      "text/plain": [
       "Index(['id', 'name', 'host_id', 'host_name', 'neighbourhood_group',\n",
       "       'neighbourhood', 'latitude', 'longitude', 'room_type', 'price',\n",
       "       'minimum_nights', 'number_of_reviews', 'last_review',\n",
       "       'reviews_per_month', 'calculated_host_listings_count',\n",
       "       'availability_365', 'price_log'],\n",
       "      dtype='object')"
      ]
     },
     "execution_count": 55,
     "metadata": {},
     "output_type": "execute_result"
    }
   ],
   "source": [
    "dataset.columns"
   ]
  },
  {
   "cell_type": "code",
   "execution_count": 56,
   "metadata": {},
   "outputs": [
    {
     "data": {
      "text/plain": [
       "neighbourhood_group                   0\n",
       "neighbourhood                         0\n",
       "latitude                              0\n",
       "longitude                             0\n",
       "room_type                             0\n",
       "minimum_nights                        0\n",
       "number_of_reviews                     0\n",
       "reviews_per_month                 10052\n",
       "calculated_host_listings_count        0\n",
       "availability_365                      0\n",
       "price_log                             0\n",
       "dtype: int64"
      ]
     },
     "execution_count": 56,
     "metadata": {},
     "output_type": "execute_result"
    }
   ],
   "source": [
    "nyc_model = dataset.drop(columns=['name','id' ,'host_id','host_name', \n",
    "                                   'last_review','price'])\n",
    "nyc_model.isnull().sum()"
   ]
  },
  {
   "cell_type": "code",
   "execution_count": 57,
   "metadata": {},
   "outputs": [
    {
     "data": {
      "text/html": [
       "<div>\n",
       "<style scoped>\n",
       "    .dataframe tbody tr th:only-of-type {\n",
       "        vertical-align: middle;\n",
       "    }\n",
       "\n",
       "    .dataframe tbody tr th {\n",
       "        vertical-align: top;\n",
       "    }\n",
       "\n",
       "    .dataframe thead th {\n",
       "        text-align: right;\n",
       "    }\n",
       "</style>\n",
       "<table border=\"1\" class=\"dataframe\">\n",
       "  <thead>\n",
       "    <tr style=\"text-align: right;\">\n",
       "      <th></th>\n",
       "      <th>neighbourhood_group</th>\n",
       "      <th>neighbourhood</th>\n",
       "      <th>latitude</th>\n",
       "      <th>longitude</th>\n",
       "      <th>room_type</th>\n",
       "      <th>minimum_nights</th>\n",
       "      <th>number_of_reviews</th>\n",
       "      <th>reviews_per_month</th>\n",
       "      <th>calculated_host_listings_count</th>\n",
       "      <th>availability_365</th>\n",
       "      <th>price_log</th>\n",
       "    </tr>\n",
       "  </thead>\n",
       "  <tbody>\n",
       "    <tr>\n",
       "      <th>0</th>\n",
       "      <td>1</td>\n",
       "      <td>108</td>\n",
       "      <td>40.64749</td>\n",
       "      <td>-73.97237</td>\n",
       "      <td>1</td>\n",
       "      <td>1</td>\n",
       "      <td>9</td>\n",
       "      <td>0.21</td>\n",
       "      <td>6</td>\n",
       "      <td>365</td>\n",
       "      <td>5.010635</td>\n",
       "    </tr>\n",
       "    <tr>\n",
       "      <th>1</th>\n",
       "      <td>2</td>\n",
       "      <td>127</td>\n",
       "      <td>40.75362</td>\n",
       "      <td>-73.98377</td>\n",
       "      <td>0</td>\n",
       "      <td>1</td>\n",
       "      <td>45</td>\n",
       "      <td>0.38</td>\n",
       "      <td>2</td>\n",
       "      <td>355</td>\n",
       "      <td>5.420535</td>\n",
       "    </tr>\n",
       "    <tr>\n",
       "      <th>2</th>\n",
       "      <td>2</td>\n",
       "      <td>94</td>\n",
       "      <td>40.80902</td>\n",
       "      <td>-73.94190</td>\n",
       "      <td>1</td>\n",
       "      <td>3</td>\n",
       "      <td>0</td>\n",
       "      <td>NaN</td>\n",
       "      <td>1</td>\n",
       "      <td>365</td>\n",
       "      <td>5.017280</td>\n",
       "    </tr>\n",
       "    <tr>\n",
       "      <th>3</th>\n",
       "      <td>1</td>\n",
       "      <td>41</td>\n",
       "      <td>40.68514</td>\n",
       "      <td>-73.95976</td>\n",
       "      <td>0</td>\n",
       "      <td>1</td>\n",
       "      <td>270</td>\n",
       "      <td>4.64</td>\n",
       "      <td>1</td>\n",
       "      <td>194</td>\n",
       "      <td>4.499810</td>\n",
       "    </tr>\n",
       "    <tr>\n",
       "      <th>4</th>\n",
       "      <td>2</td>\n",
       "      <td>61</td>\n",
       "      <td>40.79851</td>\n",
       "      <td>-73.94399</td>\n",
       "      <td>0</td>\n",
       "      <td>10</td>\n",
       "      <td>9</td>\n",
       "      <td>0.10</td>\n",
       "      <td>1</td>\n",
       "      <td>0</td>\n",
       "      <td>4.394449</td>\n",
       "    </tr>\n",
       "  </tbody>\n",
       "</table>\n",
       "</div>"
      ],
      "text/plain": [
       "   neighbourhood_group  neighbourhood  latitude  longitude  room_type  \\\n",
       "0                    1            108  40.64749  -73.97237          1   \n",
       "1                    2            127  40.75362  -73.98377          0   \n",
       "2                    2             94  40.80902  -73.94190          1   \n",
       "3                    1             41  40.68514  -73.95976          0   \n",
       "4                    2             61  40.79851  -73.94399          0   \n",
       "\n",
       "   minimum_nights  number_of_reviews  reviews_per_month  \\\n",
       "0               1                  9               0.21   \n",
       "1               1                 45               0.38   \n",
       "2               3                  0                NaN   \n",
       "3               1                270               4.64   \n",
       "4              10                  9               0.10   \n",
       "\n",
       "   calculated_host_listings_count  availability_365  price_log  \n",
       "0                               6               365   5.010635  \n",
       "1                               2               355   5.420535  \n",
       "2                               1               365   5.017280  \n",
       "3                               1               194   4.499810  \n",
       "4                               1                 0   4.394449  "
      ]
     },
     "execution_count": 57,
     "metadata": {},
     "output_type": "execute_result"
    }
   ],
   "source": [
    "nyc_model.head()"
   ]
  },
  {
   "cell_type": "code",
   "execution_count": 58,
   "metadata": {},
   "outputs": [
    {
     "data": {
      "text/plain": [
       "neighbourhood_group               0\n",
       "neighbourhood                     0\n",
       "latitude                          0\n",
       "longitude                         0\n",
       "room_type                         0\n",
       "minimum_nights                    0\n",
       "number_of_reviews                 0\n",
       "reviews_per_month                 0\n",
       "calculated_host_listings_count    0\n",
       "availability_365                  0\n",
       "price_log                         0\n",
       "dtype: int64"
      ]
     },
     "execution_count": 58,
     "metadata": {},
     "output_type": "execute_result"
    }
   ],
   "source": [
    "mean = nyc_model['reviews_per_month'].mean()\n",
    "nyc_model['reviews_per_month'].fillna(mean, inplace=True)\n",
    "nyc_model.isnull().sum()"
   ]
  },
  {
   "cell_type": "code",
   "execution_count": 59,
   "metadata": {},
   "outputs": [],
   "source": [
    "nyc_model_x, nyc_model_y = nyc_model.iloc[:,:-1], nyc_model.iloc[:,-1]"
   ]
  },
  {
   "cell_type": "code",
   "execution_count": 60,
   "metadata": {},
   "outputs": [],
   "source": [
    "scaler = StandardScaler()\n",
    "nyc_model_x = scaler.fit_transform(nyc_model_x)"
   ]
  },
  {
   "cell_type": "code",
   "execution_count": 61,
   "metadata": {},
   "outputs": [],
   "source": [
    "X_train, X_test, y_train, y_test = train_test_split(nyc_model_x, nyc_model_y, test_size=0.3,random_state=42)"
   ]
  },
  {
   "cell_type": "code",
   "execution_count": 11,
   "metadata": {},
   "outputs": [
    {
     "data": {
      "image/png": "[encoded data removed]",
      "text/plain": [
       "<Figure size 504x504 with 1 Axes>"
      ]
     },
     "metadata": {
      "needs_background": "light"
     },
     "output_type": "display_data"
    }
   ],
   "source": [
    "lab_enc = preprocessing.LabelEncoder()\n",
    "\n",
    "feature_model = ExtraTreesClassifier(n_estimators=50)\n",
    "feature_model.fit(X_train,lab_enc.fit_transform(y_train))\n",
    "\n",
    "plt.figure(figsize=(7,7))\n",
    "feat_importances = pd.Series(feature_model.feature_importances_, index=nyc_model.iloc[:,:-1].columns)\n",
    "feat_importances.nlargest(10).plot(kind='barh')\n",
    "plt.show()"
   ]
  },
  {
   "cell_type": "markdown",
   "metadata": {},
   "source": [
    "## The above graph shows the feature importance of dataset. According to that, neighborhood group and room type have the lowest importance on the model. Under this result, the model building will be made in 2 phases. In the first phase, models will be built within all features and in the second phase, models will be built without neighborhood group and room type features"
   ]
  },
  {
   "cell_type": "code",
   "execution_count": 12,
   "metadata": {},
   "outputs": [],
   "source": [
    "### Linear Regression ###\n",
    "\n",
    "def linear_reg(input_x, input_y, cv=5):\n",
    "    ## Defining parameters\n",
    "    model_LR= LinearRegression()\n",
    "\n",
    "    parameters = {'fit_intercept':[True,False], 'normalize':[True,False], 'copy_X':[True, False]}\n",
    "\n",
    "    ## Building Grid Search algorithm with cross-validation and Mean Squared Error score.\n",
    "\n",
    "    grid_search_LR = GridSearchCV(estimator=model_LR,  \n",
    "                         param_grid=parameters,\n",
    "                         scoring='neg_mean_squared_error',\n",
    "                         cv=cv,\n",
    "                         n_jobs=-1)\n",
    "\n",
    "    ## Lastly, finding the best parameters.\n",
    "\n",
    "    grid_search_LR.fit(input_x, input_y)\n",
    "    best_parameters_LR = grid_search_LR.best_params_  \n",
    "    best_score_LR = grid_search_LR.best_score_ \n",
    "    print(best_parameters_LR)\n",
    "    print(best_score_LR)"
   ]
  },
  {
   "cell_type": "code",
   "execution_count": 13,
   "metadata": {},
   "outputs": [],
   "source": [
    "### Ridge Regression ###\n",
    "\n",
    "def ridge_reg(input_x, input_y, cv=5):\n",
    "    ## Defining parameters\n",
    "    model_Ridge= Ridge()\n",
    "\n",
    "    # prepare a range of alpha values to test\n",
    "    alphas = np.array([1,0.1,0.01,0.001,0.0001,0])\n",
    "    normalizes= ([True,False])\n",
    "\n",
    "    ## Building Grid Search algorithm with cross-validation and Mean Squared Error score.\n",
    "\n",
    "    grid_search_Ridge = GridSearchCV(estimator=model_Ridge,  \n",
    "                         param_grid=(dict(alpha=alphas, normalize= normalizes)),\n",
    "                         scoring='neg_mean_squared_error',\n",
    "                         cv=cv,\n",
    "                         n_jobs=-1)\n",
    "\n",
    "    ## Lastly, finding the best parameters.\n",
    "\n",
    "    grid_search_Ridge.fit(input_x, input_y)\n",
    "    best_parameters_Ridge = grid_search_Ridge.best_params_  \n",
    "    best_score_Ridge = grid_search_Ridge.best_score_ \n",
    "    print(best_parameters_Ridge)\n",
    "    print(best_score_Ridge)\n",
    "    \n",
    "# ridge_reg(nyc_model_x, nyc_model_y)"
   ]
  },
  {
   "cell_type": "code",
   "execution_count": 14,
   "metadata": {},
   "outputs": [],
   "source": [
    "### Lasso Regression ###\n",
    "\n",
    "def lasso_reg(input_x, input_y, cv=5):\n",
    "    ## Defining parameters\n",
    "    model_Lasso= Lasso()\n",
    "\n",
    "    # prepare a range of alpha values to test\n",
    "    alphas = np.array([1,0.1,0.01,0.001,0.0001,0])\n",
    "    normalizes= ([True,False])\n",
    "\n",
    "    ## Building Grid Search algorithm with cross-validation and Mean Squared Error score.\n",
    "\n",
    "    grid_search_lasso = GridSearchCV(estimator=model_Lasso,  \n",
    "                         param_grid=(dict(alpha=alphas, normalize= normalizes)),\n",
    "                         scoring='neg_mean_squared_error',\n",
    "                         cv=cv,\n",
    "                         n_jobs=-1)\n",
    "\n",
    "    ## Lastly, finding the best parameters.\n",
    "\n",
    "    grid_search_lasso.fit(input_x, input_y)\n",
    "    best_parameters_lasso = grid_search_lasso.best_params_  \n",
    "    best_score_lasso = grid_search_lasso.best_score_ \n",
    "    print(best_parameters_lasso)\n",
    "    print(best_score_lasso)\n",
    "\n",
    "# lasso_reg(nyc_model_x, nyc_model_y)"
   ]
  },
  {
   "cell_type": "code",
   "execution_count": 15,
   "metadata": {},
   "outputs": [],
   "source": [
    "### ElasticNet Regression ###\n",
    "\n",
    "def elastic_reg(input_x, input_y,cv=5):\n",
    "    ## Defining parameters\n",
    "    model_grid_Elastic= ElasticNet()\n",
    "\n",
    "    # prepare a range of alpha values to test\n",
    "    alphas = np.array([1,0.1,0.01,0.001,0.0001,0])\n",
    "    normalizes= ([True,False])\n",
    "\n",
    "    ## Building Grid Search algorithm with cross-validation and Mean Squared Error score.\n",
    "\n",
    "    grid_search_elastic = GridSearchCV(estimator=model_grid_Elastic,  \n",
    "                         param_grid=(dict(alpha=alphas, normalize= normalizes)),\n",
    "                         scoring='neg_mean_squared_error',\n",
    "                         cv=cv,\n",
    "                         n_jobs=-1)\n",
    "\n",
    "    ## Lastly, finding the best parameters.\n",
    "\n",
    "    grid_search_elastic.fit(input_x, input_y)\n",
    "    best_parameters_elastic = grid_search_elastic.best_params_  \n",
    "    best_score_elastic = grid_search_elastic.best_score_ \n",
    "    print(best_parameters_elastic)\n",
    "    print(best_score_elastic)\n",
    "\n",
    "# elastic_reg(nyc_model_x, nyc_model_y)"
   ]
  },
  {
   "cell_type": "code",
   "execution_count": 62,
   "metadata": {},
   "outputs": [],
   "source": [
    "kfold_cv=KFold(n_splits=5, random_state=42, shuffle=False)\n",
    "for train_index, test_index in kfold_cv.split(nyc_model_x,nyc_model_y):\n",
    "    X_train, X_test = nyc_model_x[train_index], nyc_model_x[test_index]\n",
    "    y_train, y_test = nyc_model_y[train_index], nyc_model_y[test_index]"
   ]
  },
  {
   "cell_type": "code",
   "execution_count": 72,
   "metadata": {},
   "outputs": [],
   "source": [
    "Poly = PolynomialFeatures(degree=3, interaction_only=True, include_bias=False)\n",
    "X_train = Poly.fit_transform(X_train)\n",
    "X_test = Poly.fit_transform(X_test)"
   ]
  },
  {
   "cell_type": "code",
   "execution_count": 73,
   "metadata": {},
   "outputs": [
    {
     "ename": "KeyboardInterrupt",
     "evalue": "",
     "output_type": "error",
     "traceback": [
      "\u001b[0;31m---------------------------------------------------------------------------\u001b[0m",
      "\u001b[0;31mKeyboardInterrupt\u001b[0m                         Traceback (most recent call last)",
      "\u001b[0;32m<ipython-input-73-f440aecf30f8>\u001b[0m in \u001b[0;36m<module>\u001b[0;34m\u001b[0m\n\u001b[1;32m      1\u001b[0m \u001b[0;31m##Linear Regression\u001b[0m\u001b[0;34m\u001b[0m\u001b[0;34m\u001b[0m\u001b[0;34m\u001b[0m\u001b[0m\n\u001b[1;32m      2\u001b[0m \u001b[0mlr\u001b[0m \u001b[0;34m=\u001b[0m \u001b[0mLinearRegression\u001b[0m\u001b[0;34m(\u001b[0m\u001b[0mcopy_X\u001b[0m\u001b[0;34m=\u001b[0m \u001b[0;32mTrue\u001b[0m\u001b[0;34m,\u001b[0m \u001b[0mfit_intercept\u001b[0m \u001b[0;34m=\u001b[0m \u001b[0;32mTrue\u001b[0m\u001b[0;34m,\u001b[0m \u001b[0mnormalize\u001b[0m \u001b[0;34m=\u001b[0m \u001b[0;32mTrue\u001b[0m\u001b[0;34m)\u001b[0m\u001b[0;34m\u001b[0m\u001b[0;34m\u001b[0m\u001b[0m\n\u001b[0;32m----> 3\u001b[0;31m \u001b[0mlr\u001b[0m\u001b[0;34m.\u001b[0m\u001b[0mfit\u001b[0m\u001b[0;34m(\u001b[0m\u001b[0mX_train\u001b[0m\u001b[0;34m,\u001b[0m \u001b[0my_train\u001b[0m\u001b[0;34m)\u001b[0m\u001b[0;34m\u001b[0m\u001b[0;34m\u001b[0m\u001b[0m\n\u001b[0m\u001b[1;32m      4\u001b[0m \u001b[0mlr_pred\u001b[0m\u001b[0;34m=\u001b[0m \u001b[0mlr\u001b[0m\u001b[0;34m.\u001b[0m\u001b[0mpredict\u001b[0m\u001b[0;34m(\u001b[0m\u001b[0mX_test\u001b[0m\u001b[0;34m)\u001b[0m\u001b[0;34m\u001b[0m\u001b[0;34m\u001b[0m\u001b[0m\n\u001b[1;32m      5\u001b[0m \u001b[0;34m\u001b[0m\u001b[0m\n",
      "\u001b[0;32m//anaconda3/envs/bigdata/lib/python3.7/site-packages/sklearn/linear_model/base.py\u001b[0m in \u001b[0;36mfit\u001b[0;34m(self, X, y, sample_weight)\u001b[0m\n\u001b[1;32m    469\u001b[0m             \u001b[0mX\u001b[0m\u001b[0;34m,\u001b[0m \u001b[0my\u001b[0m\u001b[0;34m,\u001b[0m \u001b[0mfit_intercept\u001b[0m\u001b[0;34m=\u001b[0m\u001b[0mself\u001b[0m\u001b[0;34m.\u001b[0m\u001b[0mfit_intercept\u001b[0m\u001b[0;34m,\u001b[0m \u001b[0mnormalize\u001b[0m\u001b[0;34m=\u001b[0m\u001b[0mself\u001b[0m\u001b[0;34m.\u001b[0m\u001b[0mnormalize\u001b[0m\u001b[0;34m,\u001b[0m\u001b[0;34m\u001b[0m\u001b[0;34m\u001b[0m\u001b[0m\n\u001b[1;32m    470\u001b[0m             \u001b[0mcopy\u001b[0m\u001b[0;34m=\u001b[0m\u001b[0mself\u001b[0m\u001b[0;34m.\u001b[0m\u001b[0mcopy_X\u001b[0m\u001b[0;34m,\u001b[0m \u001b[0msample_weight\u001b[0m\u001b[0;34m=\u001b[0m\u001b[0msample_weight\u001b[0m\u001b[0;34m,\u001b[0m\u001b[0;34m\u001b[0m\u001b[0;34m\u001b[0m\u001b[0m\n\u001b[0;32m--> 471\u001b[0;31m             return_mean=True)\n\u001b[0m\u001b[1;32m    472\u001b[0m \u001b[0;34m\u001b[0m\u001b[0m\n\u001b[1;32m    473\u001b[0m         \u001b[0;32mif\u001b[0m \u001b[0msample_weight\u001b[0m \u001b[0;32mis\u001b[0m \u001b[0;32mnot\u001b[0m \u001b[0;32mNone\u001b[0m\u001b[0;34m:\u001b[0m\u001b[0;34m\u001b[0m\u001b[0;34m\u001b[0m\u001b[0m\n",
      "\u001b[0;32m//anaconda3/envs/bigdata/lib/python3.7/site-packages/sklearn/linear_model/base.py\u001b[0m in \u001b[0;36m_preprocess_data\u001b[0;34m(X, y, fit_intercept, normalize, copy, sample_weight, return_mean, check_input)\u001b[0m\n\u001b[1;32m    155\u001b[0m \u001b[0;34m\u001b[0m\u001b[0m\n\u001b[1;32m    156\u001b[0m         \u001b[0;32melse\u001b[0m\u001b[0;34m:\u001b[0m\u001b[0;34m\u001b[0m\u001b[0;34m\u001b[0m\u001b[0m\n\u001b[0;32m--> 157\u001b[0;31m             \u001b[0mX_offset\u001b[0m \u001b[0;34m=\u001b[0m \u001b[0mnp\u001b[0m\u001b[0;34m.\u001b[0m\u001b[0maverage\u001b[0m\u001b[0;34m(\u001b[0m\u001b[0mX\u001b[0m\u001b[0;34m,\u001b[0m \u001b[0maxis\u001b[0m\u001b[0;34m=\u001b[0m\u001b[0;36m0\u001b[0m\u001b[0;34m,\u001b[0m \u001b[0mweights\u001b[0m\u001b[0;34m=\u001b[0m\u001b[0msample_weight\u001b[0m\u001b[0;34m)\u001b[0m\u001b[0;34m\u001b[0m\u001b[0;34m\u001b[0m\u001b[0m\n\u001b[0m\u001b[1;32m    158\u001b[0m             \u001b[0mX\u001b[0m \u001b[0;34m-=\u001b[0m \u001b[0mX_offset\u001b[0m\u001b[0;34m\u001b[0m\u001b[0;34m\u001b[0m\u001b[0m\n\u001b[1;32m    159\u001b[0m             \u001b[0;32mif\u001b[0m \u001b[0mnormalize\u001b[0m\u001b[0;34m:\u001b[0m\u001b[0;34m\u001b[0m\u001b[0;34m\u001b[0m\u001b[0m\n",
      "\u001b[0;32m<__array_function__ internals>\u001b[0m in \u001b[0;36maverage\u001b[0;34m(*args, **kwargs)\u001b[0m\n",
      "\u001b[0;32m//anaconda3/envs/bigdata/lib/python3.7/site-packages/numpy/lib/function_base.py\u001b[0m in \u001b[0;36maverage\u001b[0;34m(a, axis, weights, returned)\u001b[0m\n\u001b[1;32m    388\u001b[0m \u001b[0;34m\u001b[0m\u001b[0m\n\u001b[1;32m    389\u001b[0m     \u001b[0;32mif\u001b[0m \u001b[0mweights\u001b[0m \u001b[0;32mis\u001b[0m \u001b[0;32mNone\u001b[0m\u001b[0;34m:\u001b[0m\u001b[0;34m\u001b[0m\u001b[0;34m\u001b[0m\u001b[0m\n\u001b[0;32m--> 390\u001b[0;31m         \u001b[0mavg\u001b[0m \u001b[0;34m=\u001b[0m \u001b[0ma\u001b[0m\u001b[0;34m.\u001b[0m\u001b[0mmean\u001b[0m\u001b[0;34m(\u001b[0m\u001b[0maxis\u001b[0m\u001b[0;34m)\u001b[0m\u001b[0;34m\u001b[0m\u001b[0;34m\u001b[0m\u001b[0m\n\u001b[0m\u001b[1;32m    391\u001b[0m         \u001b[0mscl\u001b[0m \u001b[0;34m=\u001b[0m \u001b[0mavg\u001b[0m\u001b[0;34m.\u001b[0m\u001b[0mdtype\u001b[0m\u001b[0;34m.\u001b[0m\u001b[0mtype\u001b[0m\u001b[0;34m(\u001b[0m\u001b[0ma\u001b[0m\u001b[0;34m.\u001b[0m\u001b[0msize\u001b[0m\u001b[0;34m/\u001b[0m\u001b[0mavg\u001b[0m\u001b[0;34m.\u001b[0m\u001b[0msize\u001b[0m\u001b[0;34m)\u001b[0m\u001b[0;34m\u001b[0m\u001b[0;34m\u001b[0m\u001b[0m\n\u001b[1;32m    392\u001b[0m     \u001b[0;32melse\u001b[0m\u001b[0;34m:\u001b[0m\u001b[0;34m\u001b[0m\u001b[0;34m\u001b[0m\u001b[0m\n",
      "\u001b[0;32m//anaconda3/envs/bigdata/lib/python3.7/site-packages/numpy/core/_methods.py\u001b[0m in \u001b[0;36m_mean\u001b[0;34m(a, axis, dtype, out, keepdims)\u001b[0m\n\u001b[1;32m    149\u001b[0m             \u001b[0mis_float16_result\u001b[0m \u001b[0;34m=\u001b[0m \u001b[0;32mTrue\u001b[0m\u001b[0;34m\u001b[0m\u001b[0;34m\u001b[0m\u001b[0m\n\u001b[1;32m    150\u001b[0m \u001b[0;34m\u001b[0m\u001b[0m\n\u001b[0;32m--> 151\u001b[0;31m     \u001b[0mret\u001b[0m \u001b[0;34m=\u001b[0m \u001b[0mumr_sum\u001b[0m\u001b[0;34m(\u001b[0m\u001b[0marr\u001b[0m\u001b[0;34m,\u001b[0m \u001b[0maxis\u001b[0m\u001b[0;34m,\u001b[0m \u001b[0mdtype\u001b[0m\u001b[0;34m,\u001b[0m \u001b[0mout\u001b[0m\u001b[0;34m,\u001b[0m \u001b[0mkeepdims\u001b[0m\u001b[0;34m)\u001b[0m\u001b[0;34m\u001b[0m\u001b[0;34m\u001b[0m\u001b[0m\n\u001b[0m\u001b[1;32m    152\u001b[0m     \u001b[0;32mif\u001b[0m \u001b[0misinstance\u001b[0m\u001b[0;34m(\u001b[0m\u001b[0mret\u001b[0m\u001b[0;34m,\u001b[0m \u001b[0mmu\u001b[0m\u001b[0;34m.\u001b[0m\u001b[0mndarray\u001b[0m\u001b[0;34m)\u001b[0m\u001b[0;34m:\u001b[0m\u001b[0;34m\u001b[0m\u001b[0;34m\u001b[0m\u001b[0m\n\u001b[1;32m    153\u001b[0m         ret = um.true_divide(\n",
      "\u001b[0;31mKeyboardInterrupt\u001b[0m: "
     ]
    }
   ],
   "source": [
    "##Linear Regression\n",
    "lr = LinearRegression(copy_X= True, fit_intercept = True, normalize = True)\n",
    "lr.fit(X_train, y_train)\n",
    "lr_pred= lr.predict(X_test)\n",
    "\n",
    "#Ridge Model\n",
    "ridge_model = Ridge(alpha = 0.01, normalize = True)\n",
    "ridge_model.fit(X_train, y_train)             \n",
    "pred_ridge = ridge_model.predict(X_test) \n",
    "\n",
    "#Lasso Model\n",
    "Lasso_model = Lasso(alpha = 0.001, normalize =False)\n",
    "Lasso_model.fit(X_train, y_train)\n",
    "pred_Lasso = Lasso_model.predict(X_test) \n",
    "\n",
    "#ElasticNet Model\n",
    "model_enet = ElasticNet(alpha = 0.01, normalize=False)\n",
    "model_enet.fit(X_train, y_train) \n",
    "pred_test_enet= model_enet.predict(X_test)"
   ]
  },
  {
   "cell_type": "code",
   "execution_count": 65,
   "metadata": {},
   "outputs": [],
   "source": [
    "nyc_model_xx= nyc_model.drop(columns=['neighbourhood_group', 'room_type'])"
   ]
  },
  {
   "cell_type": "code",
   "execution_count": 66,
   "metadata": {},
   "outputs": [],
   "source": [
    "nyc_model_xx, nyc_model_yx = nyc_model_xx.iloc[:,:-1], nyc_model_xx.iloc[:,-1]\n",
    "X_train_x, X_test_x, y_train_x, y_test_x = train_test_split(nyc_model_xx, nyc_model_yx, test_size=0.3,random_state=42)"
   ]
  },
  {
   "cell_type": "code",
   "execution_count": 67,
   "metadata": {},
   "outputs": [],
   "source": [
    "scaler = StandardScaler()\n",
    "nyc_model_xx = scaler.fit_transform(nyc_model_xx)"
   ]
  },
  {
   "cell_type": "code",
   "execution_count": 68,
   "metadata": {},
   "outputs": [],
   "source": [
    "kfold_cv=KFold(n_splits=4, random_state=42, shuffle=False)\n",
    "for train_index, test_index in kfold_cv.split(nyc_model_xx,nyc_model_yx):\n",
    "    X_train_x, X_test_x = nyc_model_xx[train_index], nyc_model_xx[test_index]\n",
    "    y_train_x, y_test_x = nyc_model_yx[train_index], nyc_model_yx[test_index]"
   ]
  },
  {
   "cell_type": "code",
   "execution_count": 69,
   "metadata": {},
   "outputs": [],
   "source": [
    "Poly = PolynomialFeatures(degree=3, interaction_only=True, include_bias=False)\n",
    "X_train_x = Poly.fit_transform(X_train_x)\n",
    "X_test_x = Poly.fit_transform(X_test_x)"
   ]
  },
  {
   "cell_type": "code",
   "execution_count": 70,
   "metadata": {},
   "outputs": [],
   "source": [
    "###Linear Regression\n",
    "lr_x = LinearRegression(copy_X= True, fit_intercept = True, normalize = True)\n",
    "lr_x.fit(X_train_x, y_train_x)\n",
    "lr_pred_x= lr_x.predict(X_test_x)\n",
    "\n",
    "###Ridge\n",
    "ridge_x = Ridge(alpha = 0.01, normalize = True)\n",
    "ridge_x.fit(X_train_x, y_train_x)           \n",
    "pred_ridge_x = ridge_x.predict(X_test_x) \n",
    "\n",
    "###Lasso\n",
    "Lasso_x = Lasso(alpha = 0.001, normalize =False)\n",
    "Lasso_x.fit(X_train_x, y_train_x)\n",
    "pred_Lasso_x = Lasso_x.predict(X_test_x) \n",
    "\n",
    "##ElasticNet\n",
    "model_enet_x = ElasticNet(alpha = 0.01, normalize=False)\n",
    "model_enet_x.fit(X_train_x, y_train_x) \n",
    "pred_train_enet_x= model_enet_x.predict(X_train_x)\n",
    "pred_test_enet_x= model_enet_x.predict(X_test_x)"
   ]
  },
  {
   "cell_type": "code",
   "execution_count": 25,
   "metadata": {
    "scrolled": true
   },
   "outputs": [
    {
     "name": "stdout",
     "output_type": "stream",
     "text": [
      "-------------Lineer Regression-----------\n",
      "--Phase-1--\n",
      "MAE: 0.377923\n",
      "RMSE: 0.522021\n",
      "R2 0.527663\n",
      "--Phase-2--\n",
      "MAE: 0.531963\n",
      "RMSE: 0.685894\n",
      "R2 0.184227\n",
      "---------------Ridge ---------------------\n",
      "--Phase-1--\n",
      "MAE: 0.377915\n",
      "RMSE: 0.522038\n",
      "R2 0.527631\n",
      "--Phase-2--\n",
      "MAE: 0.529255\n",
      "RMSE: 0.679340\n",
      "R2 0.199742\n",
      "---------------Lasso-----------------------\n",
      "--Phase-1--\n",
      "MAE: 0.375922\n",
      "RMSE: 0.520400\n",
      "R2 0.530591\n",
      "--Phase-2--\n",
      "MAE: 0.523562\n",
      "RMSE: 0.671290\n",
      "R2 0.218595\n",
      "---------------ElasticNet-------------------\n",
      "--Phase-1 --\n",
      "MAE: 0.371707\n",
      "RMSE: 0.518862\n",
      "R2 0.533362\n",
      "--Phase-2--\n",
      "MAE: 0.524883\n",
      "RMSE: 0.670878\n",
      "R2 0.219553\n"
     ]
    }
   ],
   "source": [
    "print('-------------Lineer Regression-----------')\n",
    "\n",
    "print('--Phase-1--')\n",
    "print('MAE: %f'% mean_absolute_error(y_test, lr_pred))\n",
    "print('RMSE: %f'% np.sqrt(mean_squared_error(y_test, lr_pred)))   \n",
    "print('R2 %f' % r2_score(y_test, lr_pred))\n",
    "\n",
    "print('--Phase-2--')\n",
    "print('MAE: %f'% mean_absolute_error(y_test_x, lr_pred_x))\n",
    "print('RMSE: %f'% np.sqrt(mean_squared_error(y_test_x, lr_pred_x)))   \n",
    "print('R2 %f' % r2_score(y_test_x, lr_pred_x))\n",
    "\n",
    "print('---------------Ridge ---------------------')\n",
    "\n",
    "print('--Phase-1--')\n",
    "print('MAE: %f'% mean_absolute_error(y_test, pred_ridge))\n",
    "print('RMSE: %f'% np.sqrt(mean_squared_error(y_test, pred_ridge)))   \n",
    "print('R2 %f' % r2_score(y_test, pred_ridge))\n",
    "\n",
    "print('--Phase-2--')\n",
    "print('MAE: %f'% mean_absolute_error(y_test_x, pred_ridge_x))\n",
    "print('RMSE: %f'% np.sqrt(mean_squared_error(y_test_x, pred_ridge_x)))   \n",
    "print('R2 %f' % r2_score(y_test_x, pred_ridge_x))\n",
    "\n",
    "print('---------------Lasso-----------------------')\n",
    "\n",
    "print('--Phase-1--')\n",
    "print('MAE: %f' % mean_absolute_error(y_test, pred_Lasso))\n",
    "print('RMSE: %f' % np.sqrt(mean_squared_error(y_test, pred_Lasso)))\n",
    "print('R2 %f' % r2_score(y_test, pred_Lasso))\n",
    "\n",
    "print('--Phase-2--')\n",
    "print('MAE: %f' % mean_absolute_error(y_test_x, pred_Lasso_x))\n",
    "print('RMSE: %f' % np.sqrt(mean_squared_error(y_test_x, pred_Lasso_x)))\n",
    "print('R2 %f' % r2_score(y_test_x, pred_Lasso_x))\n",
    "\n",
    "print('---------------ElasticNet-------------------')\n",
    "\n",
    "print('--Phase-1 --')\n",
    "print('MAE: %f' % mean_absolute_error(y_test,pred_test_enet)) #RMSE\n",
    "print('RMSE: %f' % np.sqrt(mean_squared_error(y_test,pred_test_enet))) #RMSE\n",
    "print('R2 %f' % r2_score(y_test, pred_test_enet))\n",
    "\n",
    "print('--Phase-2--')\n",
    "print('MAE: %f' % mean_absolute_error(y_test_x,pred_test_enet_x)) #RMSE\n",
    "print('RMSE: %f' % np.sqrt(mean_squared_error(y_test_x,pred_test_enet_x))) #RMSE\n",
    "print('R2 %f' % r2_score(y_test_x, pred_test_enet_x))"
   ]
  },
  {
   "cell_type": "code",
   "execution_count": 71,
   "metadata": {},
   "outputs": [
    {
     "name": "stdout",
     "output_type": "stream",
     "text": [
      "-------------Lineer Regression-----------\n",
      "--Phase-1--\n",
      "MAE: 0.377923\n",
      "RMSE: 0.522021\n",
      "R2 0.527663\n",
      "--Phase-2--\n",
      "MAE: 0.613761\n",
      "RMSE: 1.122573\n",
      "R2 -1.185169\n",
      "---------------Ridge ---------------------\n",
      "--Phase-1--\n",
      "MAE: 0.377915\n",
      "RMSE: 0.522038\n",
      "R2 0.527631\n",
      "--Phase-2--\n",
      "MAE: 0.598380\n",
      "RMSE: 1.012223\n",
      "R2 -0.776676\n",
      "---------------Lasso-----------------------\n",
      "--Phase-1--\n",
      "MAE: 0.375922\n",
      "RMSE: 0.520400\n",
      "R2 0.530591\n",
      "--Phase-2--\n",
      "MAE: 0.554271\n",
      "RMSE: 0.750714\n",
      "R2 0.022751\n",
      "---------------ElasticNet-------------------\n",
      "--Phase-1 --\n",
      "MAE: 0.371707\n",
      "RMSE: 0.518862\n",
      "R2 0.533362\n",
      "--Phase-2--\n",
      "MAE: 0.527332\n",
      "RMSE: 0.673802\n",
      "R2 0.212737\n"
     ]
    }
   ],
   "source": [
    "print('-------------Lineer Regression-----------')\n",
    "\n",
    "print('--Phase-1--')\n",
    "print('MAE: %f'% mean_absolute_error(y_test, lr_pred))\n",
    "print('RMSE: %f'% np.sqrt(mean_squared_error(y_test, lr_pred)))   \n",
    "print('R2 %f' % r2_score(y_test, lr_pred))\n",
    "\n",
    "print('--Phase-2--')\n",
    "print('MAE: %f'% mean_absolute_error(y_test_x, lr_pred_x))\n",
    "print('RMSE: %f'% np.sqrt(mean_squared_error(y_test_x, lr_pred_x)))   \n",
    "print('R2 %f' % r2_score(y_test_x, lr_pred_x))\n",
    "\n",
    "print('---------------Ridge ---------------------')\n",
    "\n",
    "print('--Phase-1--')\n",
    "print('MAE: %f'% mean_absolute_error(y_test, pred_ridge))\n",
    "print('RMSE: %f'% np.sqrt(mean_squared_error(y_test, pred_ridge)))   \n",
    "print('R2 %f' % r2_score(y_test, pred_ridge))\n",
    "\n",
    "print('--Phase-2--')\n",
    "print('MAE: %f'% mean_absolute_error(y_test_x, pred_ridge_x))\n",
    "print('RMSE: %f'% np.sqrt(mean_squared_error(y_test_x, pred_ridge_x)))   \n",
    "print('R2 %f' % r2_score(y_test_x, pred_ridge_x))\n",
    "\n",
    "print('---------------Lasso-----------------------')\n",
    "\n",
    "print('--Phase-1--')\n",
    "print('MAE: %f' % mean_absolute_error(y_test, pred_Lasso))\n",
    "print('RMSE: %f' % np.sqrt(mean_squared_error(y_test, pred_Lasso)))\n",
    "print('R2 %f' % r2_score(y_test, pred_Lasso))\n",
    "\n",
    "print('--Phase-2--')\n",
    "print('MAE: %f' % mean_absolute_error(y_test_x, pred_Lasso_x))\n",
    "print('RMSE: %f' % np.sqrt(mean_squared_error(y_test_x, pred_Lasso_x)))\n",
    "print('R2 %f' % r2_score(y_test_x, pred_Lasso_x))\n",
    "\n",
    "print('---------------ElasticNet-------------------')\n",
    "\n",
    "print('--Phase-1 --')\n",
    "print('MAE: %f' % mean_absolute_error(y_test,pred_test_enet)) #RMSE\n",
    "print('RMSE: %f' % np.sqrt(mean_squared_error(y_test,pred_test_enet))) #RMSE\n",
    "print('R2 %f' % r2_score(y_test, pred_test_enet))\n",
    "\n",
    "print('--Phase-2--')\n",
    "print('MAE: %f' % mean_absolute_error(y_test_x,pred_test_enet_x)) #RMSE\n",
    "print('RMSE: %f' % np.sqrt(mean_squared_error(y_test_x,pred_test_enet_x))) #RMSE\n",
    "print('R2 %f' % r2_score(y_test_x, pred_test_enet_x))"
   ]
  },
  {
   "cell_type": "code",
   "execution_count": null,
   "metadata": {},
   "outputs": [],
   "source": []
  }
 ],
 "metadata": {
  "kernelspec": {
   "display_name": "bigdata",
   "language": "python",
   "name": "bigdata"
  },
  "language_info": {
   "codemirror_mode": {
    "name": "ipython",
    "version": 3
   },
   "file_extension": ".py",
   "mimetype": "text/x-python",
   "name": "python",
   "nbconvert_exporter": "python",
   "pygments_lexer": "ipython3",
   "version": "3.7.5"
  }
 },
 "nbformat": 4,
 "nbformat_minor": 2
}
